{
 "cells": [
  {
   "cell_type": "code",
   "execution_count": 2,
   "id": "5b9a8a94",
   "metadata": {},
   "outputs": [],
   "source": [
    "import duckdb"
   ]
  },
  {
   "cell_type": "code",
   "execution_count": 5,
   "id": "f00951ec",
   "metadata": {},
   "outputs": [],
   "source": [
    "conn = duckdb.connect(\"../db/instacart.duckdb\")"
   ]
  },
  {
   "cell_type": "markdown",
   "id": "4e79ce79",
   "metadata": {},
   "source": [
    "Load orders.csv"
   ]
  },
  {
   "cell_type": "code",
   "execution_count": null,
   "id": "78e08a08",
   "metadata": {},
   "outputs": [
    {
     "data": {
      "text/plain": [
       "<duckdb.duckdb.DuckDBPyConnection at 0x1e444d606f0>"
      ]
     },
     "execution_count": 7,
     "metadata": {},
     "output_type": "execute_result"
    }
   ],
   "source": [
    "conn.execute(\"\"\"\n",
    "CREATE TABLE orders AS\n",
    "SELECT * from read_csv_auto('../data/orders.csv')\n",
    "\"\"\")"
   ]
  },
  {
   "cell_type": "markdown",
   "id": "c450c94f",
   "metadata": {},
   "source": [
    "Load products.csv"
   ]
  },
  {
   "cell_type": "code",
   "execution_count": 8,
   "id": "ca77d4d1",
   "metadata": {},
   "outputs": [
    {
     "data": {
      "text/plain": [
       "<duckdb.duckdb.DuckDBPyConnection at 0x1e444d606f0>"
      ]
     },
     "execution_count": 8,
     "metadata": {},
     "output_type": "execute_result"
    }
   ],
   "source": [
    "conn.execute(\"\"\"\n",
    "CREATE TABLE products AS\n",
    "             SELECT * from read_csv_auto('../data/products.csv')\n",
    "\"\"\")"
   ]
  },
  {
   "cell_type": "markdown",
   "id": "5f36e2b9",
   "metadata": {},
   "source": [
    "Load aisles.csv"
   ]
  },
  {
   "cell_type": "code",
   "execution_count": 9,
   "id": "337073fb",
   "metadata": {},
   "outputs": [
    {
     "data": {
      "text/plain": [
       "<duckdb.duckdb.DuckDBPyConnection at 0x1e444d606f0>"
      ]
     },
     "execution_count": 9,
     "metadata": {},
     "output_type": "execute_result"
    }
   ],
   "source": [
    "conn.execute(\"\"\"\n",
    "    CREATE TABLE aisles AS\n",
    "    SELECT * FROM read_csv_auto('../data/aisles.csv')\n",
    "\"\"\")\n"
   ]
  },
  {
   "cell_type": "markdown",
   "id": "672f2bbc",
   "metadata": {},
   "source": [
    "Load departments.csv"
   ]
  },
  {
   "cell_type": "code",
   "execution_count": 10,
   "id": "8ed25ce4",
   "metadata": {},
   "outputs": [
    {
     "data": {
      "text/plain": [
       "<duckdb.duckdb.DuckDBPyConnection at 0x1e444d606f0>"
      ]
     },
     "execution_count": 10,
     "metadata": {},
     "output_type": "execute_result"
    }
   ],
   "source": [
    "conn.execute(\"\"\"\n",
    "    CREATE TABLE departments AS\n",
    "    SELECT * FROM read_csv_auto('../data/departments.csv')\n",
    "\"\"\")\n"
   ]
  },
  {
   "cell_type": "markdown",
   "id": "089b912e",
   "metadata": {},
   "source": [
    "Load order_products__prior.csv"
   ]
  },
  {
   "cell_type": "code",
   "execution_count": 11,
   "id": "8b8961db",
   "metadata": {},
   "outputs": [
    {
     "data": {
      "text/plain": [
       "<duckdb.duckdb.DuckDBPyConnection at 0x1e444d606f0>"
      ]
     },
     "execution_count": 11,
     "metadata": {},
     "output_type": "execute_result"
    }
   ],
   "source": [
    "conn.execute(\"\"\"\n",
    "    CREATE TABLE order_products_prior AS\n",
    "    SELECT * FROM read_csv_auto('../data/order_products__prior.csv')\n",
    "\"\"\")\n"
   ]
  },
  {
   "cell_type": "markdown",
   "id": "f98432ed",
   "metadata": {},
   "source": [
    "Load rder_products__train.csv"
   ]
  },
  {
   "cell_type": "code",
   "execution_count": 12,
   "id": "be2597a2",
   "metadata": {},
   "outputs": [
    {
     "data": {
      "text/plain": [
       "<duckdb.duckdb.DuckDBPyConnection at 0x1e444d606f0>"
      ]
     },
     "execution_count": 12,
     "metadata": {},
     "output_type": "execute_result"
    }
   ],
   "source": [
    "conn.execute(\"\"\"\n",
    "    CREATE TABLE order_products_train AS\n",
    "    SELECT * FROM read_csv_auto('../data/order_products__train.csv')\n",
    "\"\"\")\n"
   ]
  },
  {
   "cell_type": "markdown",
   "id": "a9df0324",
   "metadata": {},
   "source": [
    "CONFIRM TABLES"
   ]
  },
  {
   "cell_type": "code",
   "execution_count": 13,
   "id": "7c5c63d1",
   "metadata": {},
   "outputs": [
    {
     "data": {
      "text/plain": [
       "[('aisles',),\n",
       " ('departments',),\n",
       " ('order_products_prior',),\n",
       " ('order_products_train',),\n",
       " ('orders',),\n",
       " ('products',)]"
      ]
     },
     "execution_count": 13,
     "metadata": {},
     "output_type": "execute_result"
    }
   ],
   "source": [
    "conn.execute(\"\"\"SHOW TABLES\"\"\").fetchall()"
   ]
  },
  {
   "cell_type": "code",
   "execution_count": 14,
   "id": "cda43ad1",
   "metadata": {},
   "outputs": [
    {
     "data": {
      "text/html": [
       "<div>\n",
       "<style scoped>\n",
       "    .dataframe tbody tr th:only-of-type {\n",
       "        vertical-align: middle;\n",
       "    }\n",
       "\n",
       "    .dataframe tbody tr th {\n",
       "        vertical-align: top;\n",
       "    }\n",
       "\n",
       "    .dataframe thead th {\n",
       "        text-align: right;\n",
       "    }\n",
       "</style>\n",
       "<table border=\"1\" class=\"dataframe\">\n",
       "  <thead>\n",
       "    <tr style=\"text-align: right;\">\n",
       "      <th></th>\n",
       "      <th>column_name</th>\n",
       "      <th>column_type</th>\n",
       "      <th>null</th>\n",
       "      <th>key</th>\n",
       "      <th>default</th>\n",
       "      <th>extra</th>\n",
       "    </tr>\n",
       "  </thead>\n",
       "  <tbody>\n",
       "    <tr>\n",
       "      <th>0</th>\n",
       "      <td>order_id</td>\n",
       "      <td>BIGINT</td>\n",
       "      <td>YES</td>\n",
       "      <td>None</td>\n",
       "      <td>None</td>\n",
       "      <td>None</td>\n",
       "    </tr>\n",
       "    <tr>\n",
       "      <th>1</th>\n",
       "      <td>user_id</td>\n",
       "      <td>BIGINT</td>\n",
       "      <td>YES</td>\n",
       "      <td>None</td>\n",
       "      <td>None</td>\n",
       "      <td>None</td>\n",
       "    </tr>\n",
       "    <tr>\n",
       "      <th>2</th>\n",
       "      <td>eval_set</td>\n",
       "      <td>VARCHAR</td>\n",
       "      <td>YES</td>\n",
       "      <td>None</td>\n",
       "      <td>None</td>\n",
       "      <td>None</td>\n",
       "    </tr>\n",
       "    <tr>\n",
       "      <th>3</th>\n",
       "      <td>order_number</td>\n",
       "      <td>BIGINT</td>\n",
       "      <td>YES</td>\n",
       "      <td>None</td>\n",
       "      <td>None</td>\n",
       "      <td>None</td>\n",
       "    </tr>\n",
       "    <tr>\n",
       "      <th>4</th>\n",
       "      <td>order_dow</td>\n",
       "      <td>BIGINT</td>\n",
       "      <td>YES</td>\n",
       "      <td>None</td>\n",
       "      <td>None</td>\n",
       "      <td>None</td>\n",
       "    </tr>\n",
       "    <tr>\n",
       "      <th>5</th>\n",
       "      <td>order_hour_of_day</td>\n",
       "      <td>VARCHAR</td>\n",
       "      <td>YES</td>\n",
       "      <td>None</td>\n",
       "      <td>None</td>\n",
       "      <td>None</td>\n",
       "    </tr>\n",
       "    <tr>\n",
       "      <th>6</th>\n",
       "      <td>days_since_prior_order</td>\n",
       "      <td>DOUBLE</td>\n",
       "      <td>YES</td>\n",
       "      <td>None</td>\n",
       "      <td>None</td>\n",
       "      <td>None</td>\n",
       "    </tr>\n",
       "  </tbody>\n",
       "</table>\n",
       "</div>"
      ],
      "text/plain": [
       "              column_name column_type null   key default extra\n",
       "0                order_id      BIGINT  YES  None    None  None\n",
       "1                 user_id      BIGINT  YES  None    None  None\n",
       "2                eval_set     VARCHAR  YES  None    None  None\n",
       "3            order_number      BIGINT  YES  None    None  None\n",
       "4               order_dow      BIGINT  YES  None    None  None\n",
       "5       order_hour_of_day     VARCHAR  YES  None    None  None\n",
       "6  days_since_prior_order      DOUBLE  YES  None    None  None"
      ]
     },
     "execution_count": 14,
     "metadata": {},
     "output_type": "execute_result"
    }
   ],
   "source": [
    "conn.execute(\"DESCRIBE orders\").df()\n"
   ]
  },
  {
   "cell_type": "code",
   "execution_count": 15,
   "id": "f627c203",
   "metadata": {},
   "outputs": [
    {
     "data": {
      "text/plain": [
       "[(0,)]"
      ]
     },
     "execution_count": 15,
     "metadata": {},
     "output_type": "execute_result"
    }
   ],
   "source": [
    "conn.execute(\"\"\"\n",
    "    SELECT COUNT(*) \n",
    "    FROM order_products_prior p\n",
    "    LEFT JOIN products pr\n",
    "    ON p.product_id = pr.product_id\n",
    "    WHERE pr.product_id IS NULL\n",
    "\"\"\").fetchall()"
   ]
  },
  {
   "cell_type": "code",
   "execution_count": 16,
   "id": "13895bfe",
   "metadata": {},
   "outputs": [],
   "source": [
    "conn.close()"
   ]
  }
 ],
 "metadata": {
  "kernelspec": {
   "display_name": "Python 3",
   "language": "python",
   "name": "python3"
  },
  "language_info": {
   "codemirror_mode": {
    "name": "ipython",
    "version": 3
   },
   "file_extension": ".py",
   "mimetype": "text/x-python",
   "name": "python",
   "nbconvert_exporter": "python",
   "pygments_lexer": "ipython3",
   "version": "3.12.2"
  }
 },
 "nbformat": 4,
 "nbformat_minor": 5
}
